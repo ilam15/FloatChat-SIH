{
 "cells": [
  {
   "cell_type": "markdown",
   "id": "09abebb9",
   "metadata": {},
   "source": [
    "# gold_to_postgres.ipynb\n",
    "Load Gold Layer Parquet → Write into PostgreSQL"
   ]
  },
  {
   "cell_type": "code",
   "execution_count": 1,
   "id": "ce802182",
   "metadata": {},
   "outputs": [
    {
     "name": "stdout",
     "output_type": "stream",
     "text": [
      "[INFO] Loaded DataFrame shape: (681493, 10)\n",
      "[INFO] Successfully written to Postgres table: agro_kpi\n"
     ]
    }
   ],
   "source": [
    "import os\n",
    "import import_ipynb\n",
    "import pandas as pd\n",
    "from sqlalchemy import create_engine\n",
    "from config import *\n",
    "\n",
    "GOLD_LAYER_PATH = os.path.join(GOLD_LAYER,\"cleaned_merged_gold.parquet\")\n",
    "df_gold = pd.read_parquet(GOLD_LAYER_PATH, engine=\"pyarrow\")\n",
    "print(\"[INFO] Loaded DataFrame shape:\", df_gold.shape)\n",
    "\n",
    "engine = create_engine(f\"postgresql+psycopg2://{POSTGRES_USER}:{POSTGRES_PASSWORD}@{POSTGRES_HOST}:{POSTGRES_PORT}/{POSTGRES_DB}\")\n",
    "\n",
    "df_gold.to_sql(TABLE_NAME, engine, if_exists='replace', index=False)\n",
    "print(f\"[INFO] Successfully written to Postgres table: {TABLE_NAME}\")"
   ]
  },
  {
   "cell_type": "code",
   "execution_count": 2,
   "id": "f1605cd6",
   "metadata": {},
   "outputs": [
    {
     "name": "stdout",
     "output_type": "stream",
     "text": [
      "         lat         lon  year  month        sst         poc       pic  \\\n",
      "0 -25.979176  153.187500  2025      8  21.609999   71.599907  0.000014   \n",
      "1 -25.979176  153.229172  2025      8  21.775000   80.199905  0.000182   \n",
      "2 -25.979176  153.270844  2025      8  22.434999   81.799904  0.000194   \n",
      "3 -25.979176  153.312500  2025      8  22.619999  121.799904  0.001074   \n",
      "4 -25.979176  153.354172  2025      8  22.619999  138.599899  0.001340   \n",
      "\n",
      "   aot_862   chlor_a  Kd_490    country city_district  \n",
      "0   0.0391  0.258860  0.0452  Australia          None  \n",
      "1   0.0374  0.282766  0.0492  Australia          None  \n",
      "2   0.0342  0.290534  0.0516  Australia          None  \n",
      "3   0.0289  0.449613  0.0672  Australia          None  \n",
      "4   0.0282  0.536851  0.0748  Australia          None  \n"
     ]
    }
   ],
   "source": [
    "import requests\n",
    "import pandas as pd\n",
    "import time\n",
    "\n",
    "def get_location_info(lat, lon):\n",
    "    \"\"\"\n",
    "    Reverse geocode latitude & longitude into country and city_district.\n",
    "    Uses OpenStreetMap Nominatim API (free, rate-limited).\n",
    "    \"\"\"\n",
    "    url = \"https://nominatim.openstreetmap.org/reverse\"\n",
    "    params = {\n",
    "        \"lat\": lat,\n",
    "        \"lon\": lon,\n",
    "        \"format\": \"json\",\n",
    "        \"zoom\": 10,   # control detail level\n",
    "        \"addressdetails\": 1\n",
    "    }\n",
    "    headers = {\"User-Agent\": \"geo-app\"}\n",
    "    \n",
    "    try:\n",
    "        response = requests.get(url, params=params, headers=headers, timeout=5)\n",
    "        if response.status_code == 200:\n",
    "            data = response.json()\n",
    "            address = data.get(\"address\", {})\n",
    "            return address.get(\"country\"), address.get(\"city_district\") or address.get(\"city\")\n",
    "        else:\n",
    "            print(f\"[WARN] Failed for lat={lat}, lon={lon}, status={response.status_code}\")\n",
    "            return None, None\n",
    "    except Exception as e:\n",
    "        print(f\"[ERROR] {e} for lat={lat}, lon={lon}\")\n",
    "        return None, None\n",
    "\n",
    "# --- Example DataFrame ---\n",
    "\n",
    "GOLD_LAYER_PATH = os.path.join(GOLD_LAYER,\"cleaned_merged_gold.parquet\")\n",
    "df_gold = pd.read_parquet(GOLD_LAYER_PATH, engine=\"pyarrow\")\n",
    "\n",
    "\n",
    "# --- Enrich DataFrame ---\n",
    "countries = []\n",
    "cities = []\n",
    "\n",
    "for idx, row in df_gold.head().iterrows():\n",
    "    country, city = get_location_info(row[\"lat\"], row[\"lon\"])\n",
    "    countries.append(country)\n",
    "    cities.append(city)\n",
    "    time.sleep(1)\n",
    "\n",
    "# Apply to the test dataframe\n",
    "df_test = df_gold.head().copy()\n",
    "df_test[\"country\"] = countries\n",
    "df_test[\"city_district\"] = cities\n",
    "\n",
    "print(df_test)\n"
   ]
  },
  {
   "cell_type": "code",
   "execution_count": null,
   "id": "305e7df6",
   "metadata": {},
   "outputs": [],
   "source": []
  }
 ],
 "metadata": {
  "kernelspec": {
   "display_name": "Python 3 (ipykernel)",
   "language": "python",
   "name": "python3"
  },
  "language_info": {
   "codemirror_mode": {
    "name": "ipython",
    "version": 3
   },
   "file_extension": ".py",
   "mimetype": "text/x-python",
   "name": "python",
   "nbconvert_exporter": "python",
   "pygments_lexer": "ipython3",
   "version": "3.10.9"
  }
 },
 "nbformat": 4,
 "nbformat_minor": 5
}
