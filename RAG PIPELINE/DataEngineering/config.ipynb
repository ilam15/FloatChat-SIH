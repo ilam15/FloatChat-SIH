{
 "cells": [
  {
   "cell_type": "markdown",
   "id": "32676503",
   "metadata": {},
   "source": [
    "# config\n",
    "Configuration file for pipeline."
   ]
  },
  {
   "cell_type": "code",
   "execution_count": 2,
   "id": "2ef22153",
   "metadata": {},
   "outputs": [],
   "source": [
    "import os\n",
    "\n",
    "PROJECT_ROOT = '.'\n",
    "\n",
    "SLIVER_CONFIG = {\n",
    "    'sst': 'sst',\n",
    "    'poc': 'poc',\n",
    "    'pic': 'pic',\n",
    "    'aot': 'aot_862',\n",
    "    'Chlorophyll': 'chlor_a',\n",
    "    'Kd490': 'Kd_490'\n",
    "}\n",
    "\n",
    "BRONZE_LAYER = os.path.join(PROJECT_ROOT, 'Bronze_Data')\n",
    "SILVER_LAYER = os.path.join(PROJECT_ROOT, 'Silver_Data')\n",
    "GOLD_LAYER   = os.path.join(PROJECT_ROOT, 'Gold_Data')\n",
    "\n",
    "POSTGRES_USER = \"postgres\"\n",
    "POSTGRES_PASSWORD = \"sama1234\"\n",
    "POSTGRES_HOST = \"localhost\"\n",
    "POSTGRES_PORT = \"5432\"\n",
    "POSTGRES_DB = \"SIH\"\n",
    "TABLE_NAME = \"agro_kpi\""
   ]
  },
  {
   "cell_type": "code",
   "execution_count": null,
   "id": "ae0fc46d",
   "metadata": {},
   "outputs": [],
   "source": []
  }
 ],
 "metadata": {
  "kernelspec": {
   "display_name": "Python 3",
   "language": "python",
   "name": "python3"
  },
  "language_info": {
   "codemirror_mode": {
    "name": "ipython",
    "version": 3
   },
   "file_extension": ".py",
   "mimetype": "text/x-python",
   "name": "python",
   "nbconvert_exporter": "python",
   "pygments_lexer": "ipython3",
   "version": "3.10.9"
  }
 },
 "nbformat": 4,
 "nbformat_minor": 5
}
