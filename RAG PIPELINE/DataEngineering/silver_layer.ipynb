{
 "cells": [
  {
   "cell_type": "markdown",
   "id": "13425d95",
   "metadata": {},
   "source": [
    "# Silver Layer\n",
    "Bronze → Silver ETL pipeline."
   ]
  },
  {
   "cell_type": "code",
   "execution_count": null,
   "id": "428a9898",
   "metadata": {},
   "outputs": [],
   "source": [
    "import import_ipynb\n",
    "from utils_notebook import get_current_date_parts, build_input_path, build_output_path, save_dataframe, process_internal_folder\n",
    "from config import SLIVER_CONFIG, BRONZE_LAYER, SILVER_LAYER\n",
    "\n",
    "def process_and_save_netcdf(base_folder, config, final_output_path, file_format='parquet'):\n",
    "    year, month, day = get_current_date_parts()\n",
    "    date_parts = {'year': year, 'month': month, 'day': day}\n",
    "    for folder_name, variable in config.items():\n",
    "        input_path = build_input_path(base_folder, year, month, folder_name)\n",
    "        df = process_internal_folder(input_path, variable, date_parts, folder_name)\n",
    "        if not df.empty:\n",
    "            output_path = build_output_path(final_output_path, year, month, folder_name)\n",
    "            save_dataframe(df, output_path, folder_name, file_format)\n",
    "        else:\n",
    "            print(f\"[INFO] No data for {folder_name}\")\n",
    "\n",
    "#process_and_save_netcdf(BRONZE_LAYER, SLIVER_CONFIG, SILVER_LAYER, 'parquet')"
   ]
  }
 ],
 "metadata": {
  "kernelspec": {
   "display_name": "Python 3 (ipykernel)",
   "language": "python",
   "name": "python3"
  },
  "language_info": {
   "codemirror_mode": {
    "name": "ipython",
    "version": 3
   },
   "file_extension": ".py",
   "mimetype": "text/x-python",
   "name": "python",
   "nbconvert_exporter": "python",
   "pygments_lexer": "ipython3",
   "version": "3.10.9"
  }
 },
 "nbformat": 4,
 "nbformat_minor": 5
}
