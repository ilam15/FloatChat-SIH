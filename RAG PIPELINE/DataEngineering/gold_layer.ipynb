{
 "cells": [
  {
   "cell_type": "markdown",
   "id": "314804b0",
   "metadata": {},
   "source": [
    "# Gold Layer\n",
    "Silver → Gold merge pipeline."
   ]
  },
  {
   "cell_type": "code",
   "execution_count": 3,
   "id": "b0e15a38",
   "metadata": {},
   "outputs": [
    {
     "ename": "ImportError",
     "evalue": "cannot import name 'get_current_date_parts' from 'utils' (C:\\Users\\Harsh\\anaconda3\\envs\\py312-env\\Lib\\site-packages\\utils\\__init__.py)",
     "output_type": "error",
     "traceback": [
      "\u001b[31m---------------------------------------------------------------------------\u001b[39m",
      "\u001b[31mImportError\u001b[39m                               Traceback (most recent call last)",
      "\u001b[36mCell\u001b[39m\u001b[36m \u001b[39m\u001b[32mIn[3]\u001b[39m\u001b[32m, line 3\u001b[39m\n\u001b[32m      1\u001b[39m \u001b[38;5;28;01mimport\u001b[39;00m\u001b[38;5;250m \u001b[39m\u001b[34;01mos\u001b[39;00m\n\u001b[32m      2\u001b[39m \u001b[38;5;28;01mimport\u001b[39;00m\u001b[38;5;250m \u001b[39m\u001b[34;01mpandas\u001b[39;00m\u001b[38;5;250m \u001b[39m\u001b[38;5;28;01mas\u001b[39;00m\u001b[38;5;250m \u001b[39m\u001b[34;01mpd\u001b[39;00m\n\u001b[32m----> \u001b[39m\u001b[32m3\u001b[39m \u001b[38;5;28;01mfrom\u001b[39;00m\u001b[38;5;250m \u001b[39m\u001b[34;01mutils\u001b[39;00m\u001b[38;5;250m \u001b[39m\u001b[38;5;28;01mimport\u001b[39;00m get_current_date_parts, save_dataframe\n\u001b[32m      4\u001b[39m \u001b[38;5;28;01mfrom\u001b[39;00m\u001b[38;5;250m \u001b[39m\u001b[34;01mconfig\u001b[39;00m\u001b[38;5;250m \u001b[39m\u001b[38;5;28;01mimport\u001b[39;00m SLIVER_CONFIG, SILVER_LAYER, GOLD_LAYER\n\u001b[32m      6\u001b[39m \u001b[38;5;28;01mdef\u001b[39;00m\u001b[38;5;250m \u001b[39m\u001b[34mmerge_silver_to_gold\u001b[39m(silver_layer, config, gold_layer, file_format=\u001b[33m'\u001b[39m\u001b[33mparquet\u001b[39m\u001b[33m'\u001b[39m):\n",
      "\u001b[31mImportError\u001b[39m: cannot import name 'get_current_date_parts' from 'utils' (C:\\Users\\Harsh\\anaconda3\\envs\\py312-env\\Lib\\site-packages\\utils\\__init__.py)"
     ]
    }
   ],
   "source": [
    "import os\n",
    "import import_ipynb\n",
    "import pandas as pd\n",
    "from utils_notebook import get_current_date_parts, save_dataframe\n",
    "from config import SLIVER_CONFIG, SILVER_LAYER, GOLD_LAYER\n",
    "\n",
    "def merge_silver_to_gold(silver_layer, config, gold_layer, file_format='parquet'):\n",
    "    os.makedirs(gold_layer, exist_ok=True)\n",
    "    df_main = None\n",
    "    year, month, day = get_current_date_parts()\n",
    "    for folder, var in config.items():\n",
    "        parquet_path = os.path.join(silver_layer, year, month, folder, f\"cleaned_{folder}.parquet\")\n",
    "        if not os.path.exists(parquet_path):\n",
    "            print(f\"[WARN] Missing {parquet_path}\")\n",
    "            \n",
    "            continue\n",
    "        print(f\"[INFO] Reading Silver data for {folder}\")\n",
    "        df_temp = pd.read_parquet(parquet_path)[['lat','lon','year','month',var]]\n",
    "        df_main = df_temp if df_main is None else df_main.merge(df_temp, on=['lat','lon','year','month'], how='outer')\n",
    "        print(\"[INFO] Final Nullable Data shape:\", df_main.shape)\n",
    "    if df_main is not None:\n",
    "        required_cols = list(config.values())\n",
    "        df_final = df_main.dropna(subset=required_cols)\n",
    "        print(\"[INFO] Final Not Null Data shape:\", df_final.shape)\n",
    "        save_dataframe(df_final, gold_layer, \"merged_gold\", file_format)\n",
    "    else:\n",
    "        print(\"[INFO] No parquet files found\")\n",
    "\n",
    "#merge_silver_to_gold(SILVER_LAYER, SLIVER_CONFIG, GOLD_LAYER, 'parquet')"
   ]
  },
  {
   "cell_type": "code",
   "execution_count": null,
   "id": "285b0e3e",
   "metadata": {},
   "outputs": [],
   "source": []
  }
 ],
 "metadata": {
  "kernelspec": {
   "display_name": "Python 3 (ipykernel)",
   "language": "python",
   "name": "python3"
  },
  "language_info": {
   "codemirror_mode": {
    "name": "ipython",
    "version": 3
   },
   "file_extension": ".py",
   "mimetype": "text/x-python",
   "name": "python",
   "nbconvert_exporter": "python",
   "pygments_lexer": "ipython3",
   "version": "3.10.9"
  }
 },
 "nbformat": 4,
 "nbformat_minor": 5
}
