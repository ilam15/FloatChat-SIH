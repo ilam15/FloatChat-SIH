{
 "cells": [
  {
   "cell_type": "markdown",
   "id": "6ec1d3cf",
   "metadata": {},
   "source": [
    "# Main\n",
    "Pipeline runner for Bronze → Silver → Gold."
   ]
  },
  {
   "cell_type": "code",
   "execution_count": 2,
   "id": "f000f711",
   "metadata": {},
   "outputs": [
    {
     "name": "stdout",
     "output_type": "stream",
     "text": [
      "Bronze → Silver...\n",
      "[INFO] Saved data → .\\Silver_Data\\2025\\08\\sst\\cleaned_sst.parquet\n",
      "[INFO] Saved data → .\\Silver_Data\\2025\\08\\poc\\cleaned_poc.parquet\n",
      "[INFO] Saved data → .\\Silver_Data\\2025\\08\\pic\\cleaned_pic.parquet\n",
      "[INFO] Saved data → .\\Silver_Data\\2025\\08\\aot\\cleaned_aot.parquet\n",
      "[INFO] Saved data → .\\Silver_Data\\2025\\08\\Chlorophyll\\cleaned_Chlorophyll.parquet\n",
      "[INFO] Saved data → .\\Silver_Data\\2025\\08\\Kd490\\cleaned_Kd490.parquet\n",
      "Bronze → Silver done.\n",
      "Silver → Gold...\n",
      "[INFO] Reading Silver data for sst\n",
      "[INFO] Final Nullable Data shape: (1406447, 5)\n",
      "[INFO] Reading Silver data for poc\n",
      "[INFO] Final Nullable Data shape: (1407869, 6)\n",
      "[INFO] Reading Silver data for pic\n",
      "[INFO] Final Nullable Data shape: (1407869, 7)\n",
      "[INFO] Reading Silver data for aot\n",
      "[INFO] Final Nullable Data shape: (1407869, 8)\n",
      "[INFO] Reading Silver data for Chlorophyll\n",
      "[INFO] Final Nullable Data shape: (1407869, 9)\n",
      "[INFO] Reading Silver data for Kd490\n",
      "[INFO] Final Nullable Data shape: (1407869, 10)\n",
      "[INFO] Final Not Null Data shape: (681493, 10)\n",
      "[INFO] Saved data → .\\Gold_Data\\cleaned_merged_gold.parquet\n",
      "Silver → Gold done.\n"
     ]
    }
   ],
   "source": [
    "import import_ipynb\n",
    "from silver_layer import process_and_save_netcdf\n",
    "from gold_layer import merge_silver_to_gold\n",
    "from config import SLIVER_CONFIG, BRONZE_LAYER, SILVER_LAYER, GOLD_LAYER\n",
    "\n",
    "def run_pipeline():\n",
    "    print(\"Bronze → Silver...\")\n",
    "    process_and_save_netcdf(BRONZE_LAYER, SLIVER_CONFIG, SILVER_LAYER, 'parquet')\n",
    "    print(\"Bronze → Silver done.\")\n",
    "    print(\"Silver → Gold...\")\n",
    "    merge_silver_to_gold(SILVER_LAYER, SLIVER_CONFIG, GOLD_LAYER, 'parquet')\n",
    "    print(\"Silver → Gold done.\")\n",
    "\n",
    "run_pipeline()"
   ]
  },
  {
   "cell_type": "code",
   "execution_count": null,
   "id": "54fd964c",
   "metadata": {},
   "outputs": [],
   "source": []
  },
  {
   "cell_type": "code",
   "execution_count": null,
   "id": "78e11bf3",
   "metadata": {},
   "outputs": [],
   "source": []
  }
 ],
 "metadata": {
  "kernelspec": {
   "display_name": "Python 3",
   "language": "python",
   "name": "python3"
  },
  "language_info": {
   "codemirror_mode": {
    "name": "ipython",
    "version": 3
   },
   "file_extension": ".py",
   "mimetype": "text/x-python",
   "name": "python",
   "nbconvert_exporter": "python",
   "pygments_lexer": "ipython3",
   "version": "3.10.9"
  }
 },
 "nbformat": 4,
 "nbformat_minor": 5
}
